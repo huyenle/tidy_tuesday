{
 "cells": [
  {
   "cell_type": "code",
   "execution_count": 7,
   "metadata": {},
   "outputs": [],
   "source": [
    "import pandas as pd"
   ]
  },
  {
   "cell_type": "code",
   "execution_count": 8,
   "metadata": {},
   "outputs": [],
   "source": [
    "unvote_url = 'https://raw.githubusercontent.com/rfordatascience/tidytuesday/master/data/2021/2021-03-23/unvotes.csv'"
   ]
  },
  {
   "cell_type": "code",
   "execution_count": 9,
   "metadata": {},
   "outputs": [],
   "source": [
    "roll_calls_url = 'https://raw.githubusercontent.com/rfordatascience/tidytuesday/master/data/2021/2021-03-23/roll_calls.csv'"
   ]
  },
  {
   "cell_type": "code",
   "execution_count": 10,
   "metadata": {},
   "outputs": [],
   "source": [
    "issues_url = 'https://raw.githubusercontent.com/rfordatascience/tidytuesday/master/data/2021/2021-03-23/issues.csv'"
   ]
  },
  {
   "cell_type": "code",
   "execution_count": 11,
   "metadata": {},
   "outputs": [],
   "source": [
    "unvotes = pd.read_csv(unvote_url, dtype={'rcid':'object'})"
   ]
  },
  {
   "cell_type": "code",
   "execution_count": 12,
   "metadata": {},
   "outputs": [],
   "source": [
    "roll_call = pd.read_csv(roll_calls_url,  dtype={'rcid':'object'})"
   ]
  },
  {
   "cell_type": "code",
   "execution_count": 13,
   "metadata": {},
   "outputs": [],
   "source": [
    "issues = pd.read_csv(issues_url,  dtype={'rcid':'object'})"
   ]
  },
  {
   "cell_type": "code",
   "execution_count": 14,
   "metadata": {},
   "outputs": [
    {
     "output_type": "execute_result",
     "data": {
      "text/plain": [
       "  rcid             country country_code vote\n",
       "0    3       United States           US  yes\n",
       "1    3              Canada           CA   no\n",
       "2    3                Cuba           CU  yes\n",
       "3    3               Haiti           HT  yes\n",
       "4    3  Dominican Republic           DO  yes"
      ],
      "text/html": "<div>\n<style scoped>\n    .dataframe tbody tr th:only-of-type {\n        vertical-align: middle;\n    }\n\n    .dataframe tbody tr th {\n        vertical-align: top;\n    }\n\n    .dataframe thead th {\n        text-align: right;\n    }\n</style>\n<table border=\"1\" class=\"dataframe\">\n  <thead>\n    <tr style=\"text-align: right;\">\n      <th></th>\n      <th>rcid</th>\n      <th>country</th>\n      <th>country_code</th>\n      <th>vote</th>\n    </tr>\n  </thead>\n  <tbody>\n    <tr>\n      <th>0</th>\n      <td>3</td>\n      <td>United States</td>\n      <td>US</td>\n      <td>yes</td>\n    </tr>\n    <tr>\n      <th>1</th>\n      <td>3</td>\n      <td>Canada</td>\n      <td>CA</td>\n      <td>no</td>\n    </tr>\n    <tr>\n      <th>2</th>\n      <td>3</td>\n      <td>Cuba</td>\n      <td>CU</td>\n      <td>yes</td>\n    </tr>\n    <tr>\n      <th>3</th>\n      <td>3</td>\n      <td>Haiti</td>\n      <td>HT</td>\n      <td>yes</td>\n    </tr>\n    <tr>\n      <th>4</th>\n      <td>3</td>\n      <td>Dominican Republic</td>\n      <td>DO</td>\n      <td>yes</td>\n    </tr>\n  </tbody>\n</table>\n</div>"
     },
     "metadata": {},
     "execution_count": 14
    }
   ],
   "source": [
    "unvotes.head()"
   ]
  },
  {
   "cell_type": "code",
   "execution_count": 15,
   "metadata": {},
   "outputs": [
    {
     "output_type": "execute_result",
     "data": {
      "text/plain": [
       "          rcid country country_code    vote\n",
       "count   869937  869937       862039  869937\n",
       "unique    6202     200          196       3\n",
       "top       5394  Canada           CA     yes\n",
       "freq       193    6176         6176  693544"
      ],
      "text/html": "<div>\n<style scoped>\n    .dataframe tbody tr th:only-of-type {\n        vertical-align: middle;\n    }\n\n    .dataframe tbody tr th {\n        vertical-align: top;\n    }\n\n    .dataframe thead th {\n        text-align: right;\n    }\n</style>\n<table border=\"1\" class=\"dataframe\">\n  <thead>\n    <tr style=\"text-align: right;\">\n      <th></th>\n      <th>rcid</th>\n      <th>country</th>\n      <th>country_code</th>\n      <th>vote</th>\n    </tr>\n  </thead>\n  <tbody>\n    <tr>\n      <th>count</th>\n      <td>869937</td>\n      <td>869937</td>\n      <td>862039</td>\n      <td>869937</td>\n    </tr>\n    <tr>\n      <th>unique</th>\n      <td>6202</td>\n      <td>200</td>\n      <td>196</td>\n      <td>3</td>\n    </tr>\n    <tr>\n      <th>top</th>\n      <td>5394</td>\n      <td>Canada</td>\n      <td>CA</td>\n      <td>yes</td>\n    </tr>\n    <tr>\n      <th>freq</th>\n      <td>193</td>\n      <td>6176</td>\n      <td>6176</td>\n      <td>693544</td>\n    </tr>\n  </tbody>\n</table>\n</div>"
     },
     "metadata": {},
     "execution_count": 15
    }
   ],
   "source": [
    "unvotes.describe(include='all')"
   ]
  },
  {
   "cell_type": "code",
   "execution_count": 16,
   "metadata": {},
   "outputs": [
    {
     "output_type": "execute_result",
     "data": {
      "text/plain": [
       "  rcid  session  importantvote        date    unres  amend  para  \\\n",
       "0    3        1            0.0  1946-01-01   R/1/66    1.0   0.0   \n",
       "1    4        1            0.0  1946-01-02   R/1/79    0.0   0.0   \n",
       "2    5        1            0.0  1946-01-04   R/1/98    0.0   0.0   \n",
       "3    6        1            0.0  1946-01-04  R/1/107    0.0   0.0   \n",
       "4    7        1            0.0  1946-01-02  R/1/295    1.0   0.0   \n",
       "\n",
       "                            short  \\\n",
       "0  AMENDMENTS, RULES OF PROCEDURE   \n",
       "1      SECURITY COUNCIL ELECTIONS   \n",
       "2                VOTING PROCEDURE   \n",
       "3     DECLARATION OF HUMAN RIGHTS   \n",
       "4      GENERAL ASSEMBLY ELECTIONS   \n",
       "\n",
       "                                               descr  \n",
       "0  TO ADOPT A CUBAN AMENDMENT TO THE UK PROPOSAL ...  \n",
       "1  TO ADOPT A USSR PROPOSAL ADJOURNING DEBATE ON ...  \n",
       "2  TO ADOPT THE KOREAN PROPOSAL THAT INVALID BALL...  \n",
       "3  TO ADOPT A CUBAN PROPOSAL (A/3-C) THAT AN ITEM...  \n",
       "4  TO ADOPT A 6TH COMMITTEE AMENDMENT (A/14) TO T...  "
      ],
      "text/html": "<div>\n<style scoped>\n    .dataframe tbody tr th:only-of-type {\n        vertical-align: middle;\n    }\n\n    .dataframe tbody tr th {\n        vertical-align: top;\n    }\n\n    .dataframe thead th {\n        text-align: right;\n    }\n</style>\n<table border=\"1\" class=\"dataframe\">\n  <thead>\n    <tr style=\"text-align: right;\">\n      <th></th>\n      <th>rcid</th>\n      <th>session</th>\n      <th>importantvote</th>\n      <th>date</th>\n      <th>unres</th>\n      <th>amend</th>\n      <th>para</th>\n      <th>short</th>\n      <th>descr</th>\n    </tr>\n  </thead>\n  <tbody>\n    <tr>\n      <th>0</th>\n      <td>3</td>\n      <td>1</td>\n      <td>0.0</td>\n      <td>1946-01-01</td>\n      <td>R/1/66</td>\n      <td>1.0</td>\n      <td>0.0</td>\n      <td>AMENDMENTS, RULES OF PROCEDURE</td>\n      <td>TO ADOPT A CUBAN AMENDMENT TO THE UK PROPOSAL ...</td>\n    </tr>\n    <tr>\n      <th>1</th>\n      <td>4</td>\n      <td>1</td>\n      <td>0.0</td>\n      <td>1946-01-02</td>\n      <td>R/1/79</td>\n      <td>0.0</td>\n      <td>0.0</td>\n      <td>SECURITY COUNCIL ELECTIONS</td>\n      <td>TO ADOPT A USSR PROPOSAL ADJOURNING DEBATE ON ...</td>\n    </tr>\n    <tr>\n      <th>2</th>\n      <td>5</td>\n      <td>1</td>\n      <td>0.0</td>\n      <td>1946-01-04</td>\n      <td>R/1/98</td>\n      <td>0.0</td>\n      <td>0.0</td>\n      <td>VOTING PROCEDURE</td>\n      <td>TO ADOPT THE KOREAN PROPOSAL THAT INVALID BALL...</td>\n    </tr>\n    <tr>\n      <th>3</th>\n      <td>6</td>\n      <td>1</td>\n      <td>0.0</td>\n      <td>1946-01-04</td>\n      <td>R/1/107</td>\n      <td>0.0</td>\n      <td>0.0</td>\n      <td>DECLARATION OF HUMAN RIGHTS</td>\n      <td>TO ADOPT A CUBAN PROPOSAL (A/3-C) THAT AN ITEM...</td>\n    </tr>\n    <tr>\n      <th>4</th>\n      <td>7</td>\n      <td>1</td>\n      <td>0.0</td>\n      <td>1946-01-02</td>\n      <td>R/1/295</td>\n      <td>1.0</td>\n      <td>0.0</td>\n      <td>GENERAL ASSEMBLY ELECTIONS</td>\n      <td>TO ADOPT A 6TH COMMITTEE AMENDMENT (A/14) TO T...</td>\n    </tr>\n  </tbody>\n</table>\n</div>"
     },
     "metadata": {},
     "execution_count": 16
    }
   ],
   "source": [
    "roll_call.head()"
   ]
  },
  {
   "cell_type": "code",
   "execution_count": 17,
   "metadata": {},
   "outputs": [
    {
     "output_type": "execute_result",
     "data": {
      "text/plain": [
       "        rcid      session  importantvote        date    unres        amend  \\\n",
       "count   6202  6202.000000    5598.000000        6202     6043  2868.000000   \n",
       "unique  6202          NaN            NaN         863     5702          NaN   \n",
       "top     2019          NaN            NaN  1989-12-06  R/61/77          NaN   \n",
       "freq       1          NaN            NaN          77        8          NaN   \n",
       "mean     NaN    41.656240       0.073419         NaN      NaN     0.108438   \n",
       "std      NaN    19.376356       0.260846         NaN      NaN     0.310987   \n",
       "min      NaN     1.000000       0.000000         NaN      NaN     0.000000   \n",
       "25%      NaN    28.000000       0.000000         NaN      NaN     0.000000   \n",
       "50%      NaN    41.000000       0.000000         NaN      NaN     0.000000   \n",
       "75%      NaN    58.000000       0.000000         NaN      NaN     0.000000   \n",
       "max      NaN    74.000000       1.000000         NaN      NaN     1.000000   \n",
       "\n",
       "               para                 short  \\\n",
       "count   3208.000000                  5629   \n",
       "unique          NaN                  2020   \n",
       "top             NaN  CHINA REPRESENTATION   \n",
       "freq            NaN                    66   \n",
       "mean       0.308915                   NaN   \n",
       "std        0.462118                   NaN   \n",
       "min        0.000000                   NaN   \n",
       "25%        0.000000                   NaN   \n",
       "50%        0.000000                   NaN   \n",
       "75%        1.000000                   NaN   \n",
       "max        1.000000                   NaN   \n",
       "\n",
       "                                                    descr  \n",
       "count                                                6201  \n",
       "unique                                               4556  \n",
       "top     Reaffirms that the Palestine Arab refugees are...  \n",
       "freq                                                   19  \n",
       "mean                                                  NaN  \n",
       "std                                                   NaN  \n",
       "min                                                   NaN  \n",
       "25%                                                   NaN  \n",
       "50%                                                   NaN  \n",
       "75%                                                   NaN  \n",
       "max                                                   NaN  "
      ],
      "text/html": "<div>\n<style scoped>\n    .dataframe tbody tr th:only-of-type {\n        vertical-align: middle;\n    }\n\n    .dataframe tbody tr th {\n        vertical-align: top;\n    }\n\n    .dataframe thead th {\n        text-align: right;\n    }\n</style>\n<table border=\"1\" class=\"dataframe\">\n  <thead>\n    <tr style=\"text-align: right;\">\n      <th></th>\n      <th>rcid</th>\n      <th>session</th>\n      <th>importantvote</th>\n      <th>date</th>\n      <th>unres</th>\n      <th>amend</th>\n      <th>para</th>\n      <th>short</th>\n      <th>descr</th>\n    </tr>\n  </thead>\n  <tbody>\n    <tr>\n      <th>count</th>\n      <td>6202</td>\n      <td>6202.000000</td>\n      <td>5598.000000</td>\n      <td>6202</td>\n      <td>6043</td>\n      <td>2868.000000</td>\n      <td>3208.000000</td>\n      <td>5629</td>\n      <td>6201</td>\n    </tr>\n    <tr>\n      <th>unique</th>\n      <td>6202</td>\n      <td>NaN</td>\n      <td>NaN</td>\n      <td>863</td>\n      <td>5702</td>\n      <td>NaN</td>\n      <td>NaN</td>\n      <td>2020</td>\n      <td>4556</td>\n    </tr>\n    <tr>\n      <th>top</th>\n      <td>2019</td>\n      <td>NaN</td>\n      <td>NaN</td>\n      <td>1989-12-06</td>\n      <td>R/61/77</td>\n      <td>NaN</td>\n      <td>NaN</td>\n      <td>CHINA REPRESENTATION</td>\n      <td>Reaffirms that the Palestine Arab refugees are...</td>\n    </tr>\n    <tr>\n      <th>freq</th>\n      <td>1</td>\n      <td>NaN</td>\n      <td>NaN</td>\n      <td>77</td>\n      <td>8</td>\n      <td>NaN</td>\n      <td>NaN</td>\n      <td>66</td>\n      <td>19</td>\n    </tr>\n    <tr>\n      <th>mean</th>\n      <td>NaN</td>\n      <td>41.656240</td>\n      <td>0.073419</td>\n      <td>NaN</td>\n      <td>NaN</td>\n      <td>0.108438</td>\n      <td>0.308915</td>\n      <td>NaN</td>\n      <td>NaN</td>\n    </tr>\n    <tr>\n      <th>std</th>\n      <td>NaN</td>\n      <td>19.376356</td>\n      <td>0.260846</td>\n      <td>NaN</td>\n      <td>NaN</td>\n      <td>0.310987</td>\n      <td>0.462118</td>\n      <td>NaN</td>\n      <td>NaN</td>\n    </tr>\n    <tr>\n      <th>min</th>\n      <td>NaN</td>\n      <td>1.000000</td>\n      <td>0.000000</td>\n      <td>NaN</td>\n      <td>NaN</td>\n      <td>0.000000</td>\n      <td>0.000000</td>\n      <td>NaN</td>\n      <td>NaN</td>\n    </tr>\n    <tr>\n      <th>25%</th>\n      <td>NaN</td>\n      <td>28.000000</td>\n      <td>0.000000</td>\n      <td>NaN</td>\n      <td>NaN</td>\n      <td>0.000000</td>\n      <td>0.000000</td>\n      <td>NaN</td>\n      <td>NaN</td>\n    </tr>\n    <tr>\n      <th>50%</th>\n      <td>NaN</td>\n      <td>41.000000</td>\n      <td>0.000000</td>\n      <td>NaN</td>\n      <td>NaN</td>\n      <td>0.000000</td>\n      <td>0.000000</td>\n      <td>NaN</td>\n      <td>NaN</td>\n    </tr>\n    <tr>\n      <th>75%</th>\n      <td>NaN</td>\n      <td>58.000000</td>\n      <td>0.000000</td>\n      <td>NaN</td>\n      <td>NaN</td>\n      <td>0.000000</td>\n      <td>1.000000</td>\n      <td>NaN</td>\n      <td>NaN</td>\n    </tr>\n    <tr>\n      <th>max</th>\n      <td>NaN</td>\n      <td>74.000000</td>\n      <td>1.000000</td>\n      <td>NaN</td>\n      <td>NaN</td>\n      <td>1.000000</td>\n      <td>1.000000</td>\n      <td>NaN</td>\n      <td>NaN</td>\n    </tr>\n  </tbody>\n</table>\n</div>"
     },
     "metadata": {},
     "execution_count": 17
    }
   ],
   "source": [
    "roll_call.describe(include='all')"
   ]
  },
  {
   "cell_type": "code",
   "execution_count": 18,
   "metadata": {},
   "outputs": [
    {
     "output_type": "execute_result",
     "data": {
      "text/plain": [
       "1"
      ]
     },
     "metadata": {},
     "execution_count": 18
    }
   ],
   "source": [
    "roll_call.descr.isna().sum()"
   ]
  },
  {
   "cell_type": "code",
   "execution_count": 19,
   "metadata": {},
   "outputs": [
    {
     "output_type": "execute_result",
     "data": {
      "text/plain": [
       "   rcid short_name                 issue\n",
       "0    77         me  Palestinian conflict\n",
       "1  9001         me  Palestinian conflict\n",
       "2  9002         me  Palestinian conflict\n",
       "3  9003         me  Palestinian conflict\n",
       "4  9004         me  Palestinian conflict"
      ],
      "text/html": "<div>\n<style scoped>\n    .dataframe tbody tr th:only-of-type {\n        vertical-align: middle;\n    }\n\n    .dataframe tbody tr th {\n        vertical-align: top;\n    }\n\n    .dataframe thead th {\n        text-align: right;\n    }\n</style>\n<table border=\"1\" class=\"dataframe\">\n  <thead>\n    <tr style=\"text-align: right;\">\n      <th></th>\n      <th>rcid</th>\n      <th>short_name</th>\n      <th>issue</th>\n    </tr>\n  </thead>\n  <tbody>\n    <tr>\n      <th>0</th>\n      <td>77</td>\n      <td>me</td>\n      <td>Palestinian conflict</td>\n    </tr>\n    <tr>\n      <th>1</th>\n      <td>9001</td>\n      <td>me</td>\n      <td>Palestinian conflict</td>\n    </tr>\n    <tr>\n      <th>2</th>\n      <td>9002</td>\n      <td>me</td>\n      <td>Palestinian conflict</td>\n    </tr>\n    <tr>\n      <th>3</th>\n      <td>9003</td>\n      <td>me</td>\n      <td>Palestinian conflict</td>\n    </tr>\n    <tr>\n      <th>4</th>\n      <td>9004</td>\n      <td>me</td>\n      <td>Palestinian conflict</td>\n    </tr>\n  </tbody>\n</table>\n</div>"
     },
     "metadata": {},
     "execution_count": 19
    }
   ],
   "source": [
    "issues.head()"
   ]
  },
  {
   "cell_type": "code",
   "execution_count": 20,
   "metadata": {},
   "outputs": [
    {
     "output_type": "execute_result",
     "data": {
      "text/plain": [
       "        rcid short_name                         issue\n",
       "count   5745       5745                          5745\n",
       "unique  4099          6                             6\n",
       "top     9070         di  Arms control and disarmament\n",
       "freq       4       1092                          1092"
      ],
      "text/html": "<div>\n<style scoped>\n    .dataframe tbody tr th:only-of-type {\n        vertical-align: middle;\n    }\n\n    .dataframe tbody tr th {\n        vertical-align: top;\n    }\n\n    .dataframe thead th {\n        text-align: right;\n    }\n</style>\n<table border=\"1\" class=\"dataframe\">\n  <thead>\n    <tr style=\"text-align: right;\">\n      <th></th>\n      <th>rcid</th>\n      <th>short_name</th>\n      <th>issue</th>\n    </tr>\n  </thead>\n  <tbody>\n    <tr>\n      <th>count</th>\n      <td>5745</td>\n      <td>5745</td>\n      <td>5745</td>\n    </tr>\n    <tr>\n      <th>unique</th>\n      <td>4099</td>\n      <td>6</td>\n      <td>6</td>\n    </tr>\n    <tr>\n      <th>top</th>\n      <td>9070</td>\n      <td>di</td>\n      <td>Arms control and disarmament</td>\n    </tr>\n    <tr>\n      <th>freq</th>\n      <td>4</td>\n      <td>1092</td>\n      <td>1092</td>\n    </tr>\n  </tbody>\n</table>\n</div>"
     },
     "metadata": {},
     "execution_count": 20
    }
   ],
   "source": [
    "issues.describe(include='all')"
   ]
  },
  {
   "cell_type": "code",
   "execution_count": 21,
   "metadata": {},
   "outputs": [
    {
     "output_type": "execute_result",
     "data": {
      "text/plain": [
       "array(['Palestinian conflict', 'Nuclear weapons and nuclear material',\n",
       "       'Arms control and disarmament', 'Human rights', 'Colonialism',\n",
       "       'Economic development'], dtype=object)"
      ]
     },
     "metadata": {},
     "execution_count": 21
    }
   ],
   "source": [
    "issues.issue.unique()"
   ]
  },
  {
   "cell_type": "code",
   "execution_count": 22,
   "metadata": {},
   "outputs": [],
   "source": [
    "merged_data = unvotes.merge(roll_call, how = 'left', on = 'rcid')"
   ]
  },
  {
   "cell_type": "code",
   "execution_count": 26,
   "metadata": {},
   "outputs": [
    {
     "data": {
      "text/html": [
       "<div>\n",
       "<style scoped>\n",
       "    .dataframe tbody tr th:only-of-type {\n",
       "        vertical-align: middle;\n",
       "    }\n",
       "\n",
       "    .dataframe tbody tr th {\n",
       "        vertical-align: top;\n",
       "    }\n",
       "\n",
       "    .dataframe thead th {\n",
       "        text-align: right;\n",
       "    }\n",
       "</style>\n",
       "<table border=\"1\" class=\"dataframe\">\n",
       "  <thead>\n",
       "    <tr style=\"text-align: right;\">\n",
       "      <th></th>\n",
       "      <th>rcid</th>\n",
       "      <th>country</th>\n",
       "      <th>country_code</th>\n",
       "      <th>vote</th>\n",
       "      <th>session</th>\n",
       "      <th>importantvote</th>\n",
       "      <th>date</th>\n",
       "      <th>unres</th>\n",
       "      <th>amend</th>\n",
       "      <th>para</th>\n",
       "      <th>short</th>\n",
       "      <th>descr</th>\n",
       "    </tr>\n",
       "  </thead>\n",
       "  <tbody>\n",
       "    <tr>\n",
       "      <th>count</th>\n",
       "      <td>869937</td>\n",
       "      <td>869937</td>\n",
       "      <td>862039</td>\n",
       "      <td>869937</td>\n",
       "      <td>869937.000000</td>\n",
       "      <td>768669.000000</td>\n",
       "      <td>869937</td>\n",
       "      <td>851967</td>\n",
       "      <td>323203.000000</td>\n",
       "      <td>379388.000000</td>\n",
       "      <td>774287</td>\n",
       "      <td>869783</td>\n",
       "    </tr>\n",
       "    <tr>\n",
       "      <th>unique</th>\n",
       "      <td>6202</td>\n",
       "      <td>200</td>\n",
       "      <td>196</td>\n",
       "      <td>3</td>\n",
       "      <td>NaN</td>\n",
       "      <td>NaN</td>\n",
       "      <td>863</td>\n",
       "      <td>5702</td>\n",
       "      <td>NaN</td>\n",
       "      <td>NaN</td>\n",
       "      <td>2020</td>\n",
       "      <td>4556</td>\n",
       "    </tr>\n",
       "    <tr>\n",
       "      <th>top</th>\n",
       "      <td>5549</td>\n",
       "      <td>Canada</td>\n",
       "      <td>CA</td>\n",
       "      <td>yes</td>\n",
       "      <td>NaN</td>\n",
       "      <td>NaN</td>\n",
       "      <td>1989-12-06</td>\n",
       "      <td>R/72/50</td>\n",
       "      <td>NaN</td>\n",
       "      <td>NaN</td>\n",
       "      <td>HUMAN RIGHTS ADVANCEMENT</td>\n",
       "      <td>Reaffirms that the Palestine Arab refugees are...</td>\n",
       "    </tr>\n",
       "    <tr>\n",
       "      <th>freq</th>\n",
       "      <td>193</td>\n",
       "      <td>6176</td>\n",
       "      <td>6176</td>\n",
       "      <td>693544</td>\n",
       "      <td>NaN</td>\n",
       "      <td>NaN</td>\n",
       "      <td>11445</td>\n",
       "      <td>1403</td>\n",
       "      <td>NaN</td>\n",
       "      <td>NaN</td>\n",
       "      <td>7790</td>\n",
       "      <td>2934</td>\n",
       "    </tr>\n",
       "    <tr>\n",
       "      <th>mean</th>\n",
       "      <td>NaN</td>\n",
       "      <td>NaN</td>\n",
       "      <td>NaN</td>\n",
       "      <td>NaN</td>\n",
       "      <td>46.175476</td>\n",
       "      <td>0.088063</td>\n",
       "      <td>NaN</td>\n",
       "      <td>NaN</td>\n",
       "      <td>0.090281</td>\n",
       "      <td>0.307435</td>\n",
       "      <td>NaN</td>\n",
       "      <td>NaN</td>\n",
       "    </tr>\n",
       "    <tr>\n",
       "      <th>std</th>\n",
       "      <td>NaN</td>\n",
       "      <td>NaN</td>\n",
       "      <td>NaN</td>\n",
       "      <td>NaN</td>\n",
       "      <td>17.600663</td>\n",
       "      <td>0.283386</td>\n",
       "      <td>NaN</td>\n",
       "      <td>NaN</td>\n",
       "      <td>0.286584</td>\n",
       "      <td>0.461432</td>\n",
       "      <td>NaN</td>\n",
       "      <td>NaN</td>\n",
       "    </tr>\n",
       "    <tr>\n",
       "      <th>min</th>\n",
       "      <td>NaN</td>\n",
       "      <td>NaN</td>\n",
       "      <td>NaN</td>\n",
       "      <td>NaN</td>\n",
       "      <td>1.000000</td>\n",
       "      <td>0.000000</td>\n",
       "      <td>NaN</td>\n",
       "      <td>NaN</td>\n",
       "      <td>0.000000</td>\n",
       "      <td>0.000000</td>\n",
       "      <td>NaN</td>\n",
       "      <td>NaN</td>\n",
       "    </tr>\n",
       "    <tr>\n",
       "      <th>25%</th>\n",
       "      <td>NaN</td>\n",
       "      <td>NaN</td>\n",
       "      <td>NaN</td>\n",
       "      <td>NaN</td>\n",
       "      <td>34.000000</td>\n",
       "      <td>0.000000</td>\n",
       "      <td>NaN</td>\n",
       "      <td>NaN</td>\n",
       "      <td>0.000000</td>\n",
       "      <td>0.000000</td>\n",
       "      <td>NaN</td>\n",
       "      <td>NaN</td>\n",
       "    </tr>\n",
       "    <tr>\n",
       "      <th>50%</th>\n",
       "      <td>NaN</td>\n",
       "      <td>NaN</td>\n",
       "      <td>NaN</td>\n",
       "      <td>NaN</td>\n",
       "      <td>45.000000</td>\n",
       "      <td>0.000000</td>\n",
       "      <td>NaN</td>\n",
       "      <td>NaN</td>\n",
       "      <td>0.000000</td>\n",
       "      <td>0.000000</td>\n",
       "      <td>NaN</td>\n",
       "      <td>NaN</td>\n",
       "    </tr>\n",
       "    <tr>\n",
       "      <th>75%</th>\n",
       "      <td>NaN</td>\n",
       "      <td>NaN</td>\n",
       "      <td>NaN</td>\n",
       "      <td>NaN</td>\n",
       "      <td>61.000000</td>\n",
       "      <td>0.000000</td>\n",
       "      <td>NaN</td>\n",
       "      <td>NaN</td>\n",
       "      <td>0.000000</td>\n",
       "      <td>1.000000</td>\n",
       "      <td>NaN</td>\n",
       "      <td>NaN</td>\n",
       "    </tr>\n",
       "    <tr>\n",
       "      <th>max</th>\n",
       "      <td>NaN</td>\n",
       "      <td>NaN</td>\n",
       "      <td>NaN</td>\n",
       "      <td>NaN</td>\n",
       "      <td>74.000000</td>\n",
       "      <td>1.000000</td>\n",
       "      <td>NaN</td>\n",
       "      <td>NaN</td>\n",
       "      <td>1.000000</td>\n",
       "      <td>1.000000</td>\n",
       "      <td>NaN</td>\n",
       "      <td>NaN</td>\n",
       "    </tr>\n",
       "  </tbody>\n",
       "</table>\n",
       "</div>"
      ],
      "text/plain": [
       "          rcid country country_code    vote        session  importantvote  \\\n",
       "count   869937  869937       862039  869937  869937.000000  768669.000000   \n",
       "unique    6202     200          196       3            NaN            NaN   \n",
       "top       5549  Canada           CA     yes            NaN            NaN   \n",
       "freq       193    6176         6176  693544            NaN            NaN   \n",
       "mean       NaN     NaN          NaN     NaN      46.175476       0.088063   \n",
       "std        NaN     NaN          NaN     NaN      17.600663       0.283386   \n",
       "min        NaN     NaN          NaN     NaN       1.000000       0.000000   \n",
       "25%        NaN     NaN          NaN     NaN      34.000000       0.000000   \n",
       "50%        NaN     NaN          NaN     NaN      45.000000       0.000000   \n",
       "75%        NaN     NaN          NaN     NaN      61.000000       0.000000   \n",
       "max        NaN     NaN          NaN     NaN      74.000000       1.000000   \n",
       "\n",
       "              date    unres          amend           para  \\\n",
       "count       869937   851967  323203.000000  379388.000000   \n",
       "unique         863     5702            NaN            NaN   \n",
       "top     1989-12-06  R/72/50            NaN            NaN   \n",
       "freq         11445     1403            NaN            NaN   \n",
       "mean           NaN      NaN       0.090281       0.307435   \n",
       "std            NaN      NaN       0.286584       0.461432   \n",
       "min            NaN      NaN       0.000000       0.000000   \n",
       "25%            NaN      NaN       0.000000       0.000000   \n",
       "50%            NaN      NaN       0.000000       0.000000   \n",
       "75%            NaN      NaN       0.000000       1.000000   \n",
       "max            NaN      NaN       1.000000       1.000000   \n",
       "\n",
       "                           short  \\\n",
       "count                     774287   \n",
       "unique                      2020   \n",
       "top     HUMAN RIGHTS ADVANCEMENT   \n",
       "freq                        7790   \n",
       "mean                         NaN   \n",
       "std                          NaN   \n",
       "min                          NaN   \n",
       "25%                          NaN   \n",
       "50%                          NaN   \n",
       "75%                          NaN   \n",
       "max                          NaN   \n",
       "\n",
       "                                                    descr  \n",
       "count                                              869783  \n",
       "unique                                               4556  \n",
       "top     Reaffirms that the Palestine Arab refugees are...  \n",
       "freq                                                 2934  \n",
       "mean                                                  NaN  \n",
       "std                                                   NaN  \n",
       "min                                                   NaN  \n",
       "25%                                                   NaN  \n",
       "50%                                                   NaN  \n",
       "75%                                                   NaN  \n",
       "max                                                   NaN  "
      ]
     },
     "execution_count": 26,
     "metadata": {},
     "output_type": "execute_result"
    }
   ],
   "source": [
    "merged_data.describe(include='all')"
   ]
  },
  {
   "cell_type": "code",
   "execution_count": 23,
   "metadata": {},
   "outputs": [
    {
     "output_type": "execute_result",
     "data": {
      "text/plain": [
       "154"
      ]
     },
     "metadata": {},
     "execution_count": 23
    }
   ],
   "source": [
    "merged_data.descr.isna().sum()"
   ]
  },
  {
   "cell_type": "code",
   "execution_count": 36,
   "metadata": {},
   "outputs": [
    {
     "data": {
      "text/html": [
       "<div>\n",
       "<style scoped>\n",
       "    .dataframe tbody tr th:only-of-type {\n",
       "        vertical-align: middle;\n",
       "    }\n",
       "\n",
       "    .dataframe tbody tr th {\n",
       "        vertical-align: top;\n",
       "    }\n",
       "\n",
       "    .dataframe thead th {\n",
       "        text-align: right;\n",
       "    }\n",
       "</style>\n",
       "<table border=\"1\" class=\"dataframe\">\n",
       "  <thead>\n",
       "    <tr style=\"text-align: right;\">\n",
       "      <th></th>\n",
       "      <th>rcid</th>\n",
       "      <th>country</th>\n",
       "      <th>country_code</th>\n",
       "      <th>vote</th>\n",
       "      <th>session</th>\n",
       "      <th>importantvote</th>\n",
       "      <th>date</th>\n",
       "      <th>unres</th>\n",
       "      <th>amend</th>\n",
       "      <th>para</th>\n",
       "      <th>short</th>\n",
       "      <th>descr</th>\n",
       "    </tr>\n",
       "  </thead>\n",
       "  <tbody>\n",
       "    <tr>\n",
       "      <th>768956</th>\n",
       "      <td>6027</td>\n",
       "      <td>Afghanistan</td>\n",
       "      <td>AF</td>\n",
       "      <td>yes</td>\n",
       "      <td>52</td>\n",
       "      <td>NaN</td>\n",
       "      <td>1997-12-09</td>\n",
       "      <td>NaN</td>\n",
       "      <td>NaN</td>\n",
       "      <td>NaN</td>\n",
       "      <td>NaN</td>\n",
       "      <td>NaN</td>\n",
       "    </tr>\n",
       "    <tr>\n",
       "      <th>769729</th>\n",
       "      <td>6027</td>\n",
       "      <td>Algeria</td>\n",
       "      <td>DZ</td>\n",
       "      <td>yes</td>\n",
       "      <td>52</td>\n",
       "      <td>NaN</td>\n",
       "      <td>1997-12-09</td>\n",
       "      <td>NaN</td>\n",
       "      <td>NaN</td>\n",
       "      <td>NaN</td>\n",
       "      <td>NaN</td>\n",
       "      <td>NaN</td>\n",
       "    </tr>\n",
       "    <tr>\n",
       "      <th>770139</th>\n",
       "      <td>6027</td>\n",
       "      <td>Andorra</td>\n",
       "      <td>AD</td>\n",
       "      <td>no</td>\n",
       "      <td>52</td>\n",
       "      <td>NaN</td>\n",
       "      <td>1997-12-09</td>\n",
       "      <td>NaN</td>\n",
       "      <td>NaN</td>\n",
       "      <td>NaN</td>\n",
       "      <td>NaN</td>\n",
       "      <td>NaN</td>\n",
       "    </tr>\n",
       "    <tr>\n",
       "      <th>770478</th>\n",
       "      <td>6027</td>\n",
       "      <td>Angola</td>\n",
       "      <td>AO</td>\n",
       "      <td>yes</td>\n",
       "      <td>52</td>\n",
       "      <td>NaN</td>\n",
       "      <td>1997-12-09</td>\n",
       "      <td>NaN</td>\n",
       "      <td>NaN</td>\n",
       "      <td>NaN</td>\n",
       "      <td>NaN</td>\n",
       "      <td>NaN</td>\n",
       "    </tr>\n",
       "    <tr>\n",
       "      <th>770843</th>\n",
       "      <td>6027</td>\n",
       "      <td>Antigua &amp; Barbuda</td>\n",
       "      <td>AG</td>\n",
       "      <td>abstain</td>\n",
       "      <td>52</td>\n",
       "      <td>NaN</td>\n",
       "      <td>1997-12-09</td>\n",
       "      <td>NaN</td>\n",
       "      <td>NaN</td>\n",
       "      <td>NaN</td>\n",
       "      <td>NaN</td>\n",
       "      <td>NaN</td>\n",
       "    </tr>\n",
       "    <tr>\n",
       "      <th>...</th>\n",
       "      <td>...</td>\n",
       "      <td>...</td>\n",
       "      <td>...</td>\n",
       "      <td>...</td>\n",
       "      <td>...</td>\n",
       "      <td>...</td>\n",
       "      <td>...</td>\n",
       "      <td>...</td>\n",
       "      <td>...</td>\n",
       "      <td>...</td>\n",
       "      <td>...</td>\n",
       "      <td>...</td>\n",
       "    </tr>\n",
       "    <tr>\n",
       "      <th>834928</th>\n",
       "      <td>6027</td>\n",
       "      <td>Venezuela</td>\n",
       "      <td>VE</td>\n",
       "      <td>no</td>\n",
       "      <td>52</td>\n",
       "      <td>NaN</td>\n",
       "      <td>1997-12-09</td>\n",
       "      <td>NaN</td>\n",
       "      <td>NaN</td>\n",
       "      <td>NaN</td>\n",
       "      <td>NaN</td>\n",
       "      <td>NaN</td>\n",
       "    </tr>\n",
       "    <tr>\n",
       "      <th>835225</th>\n",
       "      <td>6027</td>\n",
       "      <td>Vietnam</td>\n",
       "      <td>VN</td>\n",
       "      <td>yes</td>\n",
       "      <td>52</td>\n",
       "      <td>NaN</td>\n",
       "      <td>1997-12-09</td>\n",
       "      <td>NaN</td>\n",
       "      <td>NaN</td>\n",
       "      <td>NaN</td>\n",
       "      <td>NaN</td>\n",
       "      <td>NaN</td>\n",
       "    </tr>\n",
       "    <tr>\n",
       "      <th>835599</th>\n",
       "      <td>6027</td>\n",
       "      <td>Yemen</td>\n",
       "      <td>YE</td>\n",
       "      <td>yes</td>\n",
       "      <td>52</td>\n",
       "      <td>NaN</td>\n",
       "      <td>1997-12-09</td>\n",
       "      <td>NaN</td>\n",
       "      <td>NaN</td>\n",
       "      <td>NaN</td>\n",
       "      <td>NaN</td>\n",
       "      <td>NaN</td>\n",
       "    </tr>\n",
       "    <tr>\n",
       "      <th>836007</th>\n",
       "      <td>6027</td>\n",
       "      <td>North Macedonia</td>\n",
       "      <td>MK</td>\n",
       "      <td>no</td>\n",
       "      <td>52</td>\n",
       "      <td>NaN</td>\n",
       "      <td>1997-12-09</td>\n",
       "      <td>NaN</td>\n",
       "      <td>NaN</td>\n",
       "      <td>NaN</td>\n",
       "      <td>NaN</td>\n",
       "      <td>NaN</td>\n",
       "    </tr>\n",
       "    <tr>\n",
       "      <th>836802</th>\n",
       "      <td>6027</td>\n",
       "      <td>Zimbabwe</td>\n",
       "      <td>ZW</td>\n",
       "      <td>yes</td>\n",
       "      <td>52</td>\n",
       "      <td>NaN</td>\n",
       "      <td>1997-12-09</td>\n",
       "      <td>NaN</td>\n",
       "      <td>NaN</td>\n",
       "      <td>NaN</td>\n",
       "      <td>NaN</td>\n",
       "      <td>NaN</td>\n",
       "    </tr>\n",
       "  </tbody>\n",
       "</table>\n",
       "<p>154 rows × 12 columns</p>\n",
       "</div>"
      ],
      "text/plain": [
       "        rcid            country country_code     vote  session  importantvote  \\\n",
       "768956  6027        Afghanistan           AF      yes       52            NaN   \n",
       "769729  6027            Algeria           DZ      yes       52            NaN   \n",
       "770139  6027            Andorra           AD       no       52            NaN   \n",
       "770478  6027             Angola           AO      yes       52            NaN   \n",
       "770843  6027  Antigua & Barbuda           AG  abstain       52            NaN   \n",
       "...      ...                ...          ...      ...      ...            ...   \n",
       "834928  6027          Venezuela           VE       no       52            NaN   \n",
       "835225  6027            Vietnam           VN      yes       52            NaN   \n",
       "835599  6027              Yemen           YE      yes       52            NaN   \n",
       "836007  6027    North Macedonia           MK       no       52            NaN   \n",
       "836802  6027           Zimbabwe           ZW      yes       52            NaN   \n",
       "\n",
       "              date unres  amend  para short descr  \n",
       "768956  1997-12-09   NaN    NaN   NaN   NaN   NaN  \n",
       "769729  1997-12-09   NaN    NaN   NaN   NaN   NaN  \n",
       "770139  1997-12-09   NaN    NaN   NaN   NaN   NaN  \n",
       "770478  1997-12-09   NaN    NaN   NaN   NaN   NaN  \n",
       "770843  1997-12-09   NaN    NaN   NaN   NaN   NaN  \n",
       "...            ...   ...    ...   ...   ...   ...  \n",
       "834928  1997-12-09   NaN    NaN   NaN   NaN   NaN  \n",
       "835225  1997-12-09   NaN    NaN   NaN   NaN   NaN  \n",
       "835599  1997-12-09   NaN    NaN   NaN   NaN   NaN  \n",
       "836007  1997-12-09   NaN    NaN   NaN   NaN   NaN  \n",
       "836802  1997-12-09   NaN    NaN   NaN   NaN   NaN  \n",
       "\n",
       "[154 rows x 12 columns]"
      ]
     },
     "execution_count": 36,
     "metadata": {},
     "output_type": "execute_result"
    }
   ],
   "source": [
    "merged_data[merged_data.descr.isna()]"
   ]
  },
  {
   "cell_type": "code",
   "execution_count": 35,
   "metadata": {},
   "outputs": [
    {
     "data": {
      "text/plain": [
       "(6202, 9)"
      ]
     },
     "execution_count": 35,
     "metadata": {},
     "output_type": "execute_result"
    }
   ],
   "source": [
    "roll_call.shape"
   ]
  }
 ],
 "metadata": {
  "kernelspec": {
   "display_name": "Python 3",
   "language": "python",
   "name": "python3"
  },
  "language_info": {
   "codemirror_mode": {
    "name": "ipython",
    "version": 3
   },
   "file_extension": ".py",
   "mimetype": "text/x-python",
   "name": "python",
   "nbconvert_exporter": "python",
   "pygments_lexer": "ipython3",
   "version": "3.8.6-final"
  }
 },
 "nbformat": 4,
 "nbformat_minor": 4
}